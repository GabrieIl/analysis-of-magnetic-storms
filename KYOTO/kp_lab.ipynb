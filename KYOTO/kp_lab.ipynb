{
 "cells": [
  {
   "cell_type": "code",
   "execution_count": null,
   "metadata": {},
   "outputs": [],
   "source": [
    "import requests\n",
    "import numpy as np\n",
    "import pandas as pd\n",
    "import matplotlib.pyplot as plt\n",
    "from typing import List, Union, Dict\n",
    "from calendar import monthrange"
   ]
  },
  {
   "cell_type": "code",
   "execution_count": null,
   "metadata": {},
   "outputs": [],
   "source": [
    "BASE_URL_KP_FINAL = 'https://kp.gfz-potsdam.de/app/json'"
   ]
  },
  {
   "cell_type": "code",
   "execution_count": null,
   "metadata": {},
   "outputs": [],
   "source": [
    "def get_month_data_kp(year: str, month: str) -> Union[str, Exception]:\n",
    "    \"\"\"\n",
    "    year [str]: YYYYY\n",
    "    month [str]: DD\n",
    "    \"\"\"\n",
    "    start_day, end_day = monthrange(year=int(year), month=int(month))\n",
    "    url = f\"{BASE_URL_KP_FINAL}/?start={year}-{month}-{start_day}T00%3A00%3A00Z&end={year}-{month}-{end_day}T23%3A59%3A59Z&index=Kp&status=def\"\n",
    "    try:\n",
    "        resp = requests.get(url=url)\n",
    "        ans = resp.json()\n",
    "        return ans\n",
    "    except Exception as error:\n",
    "        raise error"
   ]
  },
  {
   "cell_type": "code",
   "execution_count": null,
   "metadata": {},
   "outputs": [],
   "source": [
    "def clean_month_data_kp(raw_data: Dict[str, str]) -> Dict:\n",
    "    trusted_data = {\n",
    "        'datetime': pd.to_datetime(raw_data['datetime']),\n",
    "        'Kp': pd.to_numeric(raw_data['Kp'])\n",
    "    }\n",
    "    return trusted_data"
   ]
  },
  {
   "cell_type": "code",
   "execution_count": null,
   "metadata": {},
   "outputs": [],
   "source": [
    "def generate_df(trusted_data: Dict) -> pd.DataFrame:\n",
    "    \"\"\"\n",
    "    \"\"\"\n",
    "\n",
    "    processed_data = list()\n",
    "    for i in range(0, len(trusted_data['Kp']), 8):\n",
    "        processed_data.append({\n",
    "            'date': trusted_data['datetime'][i].date(),\n",
    "            '0': trusted_data['Kp'][i+0],\n",
    "            # '1': round((0.75*trusted_data['Kp'][i+0] + 0.25*trusted_data['Kp'][i+1])/2, 4), #\n",
    "            # '2': round((0.25*trusted_data['Kp'][i+0] + 0.75*trusted_data['Kp'][i+1])/2, 4), #\n",
    "            '3': trusted_data['Kp'][i+1],\n",
    "            # '4': round((0.75*trusted_data['Kp'][i+1] + 0.25*trusted_data['Kp'][i+2])/2, 4), #\n",
    "            # '5': round((0.25*trusted_data['Kp'][i+1] + 0.75*trusted_data['Kp'][i+2])/2, 4), #\n",
    "            '6': trusted_data['Kp'][i+2],\n",
    "            # '7': round((0.75*trusted_data['Kp'][i+2] + 0.25*trusted_data['Kp'][i+3])/2, 4), #\n",
    "            # '8': round((0.25*trusted_data['Kp'][i+2] + 0.75*trusted_data['Kp'][i+3])/2, 4), #\n",
    "            '9': trusted_data['Kp'][i+3],\n",
    "            # '10': round((0.75*trusted_data['Kp'][i+3] + 0.25*trusted_data['Kp'][i+4])/2, 4), #\n",
    "            # '11': round((0.25*trusted_data['Kp'][i+3] + 0.75*trusted_data['Kp'][i+4])/2, 4), #\n",
    "            '12': trusted_data['Kp'][i+4],\n",
    "            # '13': round((0.75*trusted_data['Kp'][i+4] + 0.25*trusted_data['Kp'][i+5])/2, 4), #\n",
    "            # '14': round((0.25*trusted_data['Kp'][i+4] + 0.75*trusted_data['Kp'][i+5])/2, 4), #\n",
    "            '15': trusted_data['Kp'][i+5],\n",
    "            # '16': round((0.75*trusted_data['Kp'][i+5] + 0.25*trusted_data['Kp'][i+6])/2, 4), #\n",
    "            # '17': round((0.25*trusted_data['Kp'][i+5] + 0.75*trusted_data['Kp'][i+6])/2, 4), #\n",
    "            '18': trusted_data['Kp'][i+6],\n",
    "            # '19': round((0.75*trusted_data['Kp'][i+6] + 0.25*trusted_data['Kp'][i+7])/2, 4), #\n",
    "            # '20': round((0.25*trusted_data['Kp'][i+6] + 0.75*trusted_data['Kp'][i+7])/2, 4), #\n",
    "            '21': trusted_data['Kp'][i+7],\n",
    "            # '22': trusted_data['Kp'][i+7], # *\n",
    "            # '23': trusted_data['Kp'][i+7], # *\n",
    "        })\n",
    "    return pd.DataFrame(processed_data)"
   ]
  },
  {
   "cell_type": "code",
   "execution_count": null,
   "metadata": {},
   "outputs": [],
   "source": [
    "year = '2003'\n",
    "month = '11'\n",
    "\n",
    "month_data_kp = get_month_data_kp(year=year, month=month)\n",
    "cleaned_data_kp = clean_month_data_kp(raw_data=month_data_kp)\n"
   ]
  },
  {
   "cell_type": "code",
   "execution_count": null,
   "metadata": {},
   "outputs": [],
   "source": [
    "df = generate_df(trusted_data=cleaned_data_kp)"
   ]
  },
  {
   "cell_type": "code",
   "execution_count": null,
   "metadata": {},
   "outputs": [],
   "source": [
    "df"
   ]
  }
 ],
 "metadata": {
  "kernelspec": {
   "display_name": "venv",
   "language": "python",
   "name": "python3"
  },
  "language_info": {
   "codemirror_mode": {
    "name": "ipython",
    "version": 3
   },
   "file_extension": ".py",
   "mimetype": "text/x-python",
   "name": "python",
   "nbconvert_exporter": "python",
   "pygments_lexer": "ipython3",
   "version": "3.8.10"
  },
  "orig_nbformat": 4
 },
 "nbformat": 4,
 "nbformat_minor": 2
}

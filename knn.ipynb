{
 "cells": [
  {
   "cell_type": "code",
   "execution_count": 34,
   "metadata": {},
   "outputs": [],
   "source": [
    "from sklearn.model_selection import train_test_split\n",
    "from sklearn.calibration import LabelEncoder\n",
    "from sklearn.svm import SVC\n",
    "from sklearn.metrics import confusion_matrix\n",
    "\n",
    "import numpy as np\n",
    "import seaborn as sns\n",
    "import matplotlib.pyplot as plt\n"
   ]
  },
  {
   "cell_type": "code",
   "execution_count": 1,
   "metadata": {},
   "outputs": [],
   "source": [
    "from utils.rw_processed_data import load_processed_data\n"
   ]
  },
  {
   "cell_type": "code",
   "execution_count": 2,
   "metadata": {},
   "outputs": [],
   "source": [
    "data = load_processed_data(folder_name='OMNI', name='full_data')"
   ]
  },
  {
   "cell_type": "code",
   "execution_count": 5,
   "metadata": {},
   "outputs": [],
   "source": [
    "data.drop(data[data['Dst_index'] == 999.9].index, inplace=True)\n",
    "data.drop(data[data['B_scalar'] == 999.9].index, inplace=True)\n",
    "data.drop(data[data['Bz_GSM'] == 999.9].index, inplace=True)\n",
    "data.drop(data[data['Dst_index'] == 999.9].index, inplace=True)"
   ]
  },
  {
   "cell_type": "code",
   "execution_count": 10,
   "metadata": {},
   "outputs": [],
   "source": [
    "filter_data = data.copy()"
   ]
  },
  {
   "cell_type": "code",
   "execution_count": 11,
   "metadata": {},
   "outputs": [
    {
     "data": {
      "text/html": [
       "<div>\n",
       "<style scoped>\n",
       "    .dataframe tbody tr th:only-of-type {\n",
       "        vertical-align: middle;\n",
       "    }\n",
       "\n",
       "    .dataframe tbody tr th {\n",
       "        vertical-align: top;\n",
       "    }\n",
       "\n",
       "    .dataframe thead th {\n",
       "        text-align: right;\n",
       "    }\n",
       "</style>\n",
       "<table border=\"1\" class=\"dataframe\">\n",
       "  <thead>\n",
       "    <tr style=\"text-align: right;\">\n",
       "      <th></th>\n",
       "      <th>date</th>\n",
       "      <th>Dst_index</th>\n",
       "      <th>Kp_index</th>\n",
       "      <th>B_scalar</th>\n",
       "      <th>Bz_GSM</th>\n",
       "      <th>classification</th>\n",
       "    </tr>\n",
       "  </thead>\n",
       "  <tbody>\n",
       "    <tr>\n",
       "      <th>6</th>\n",
       "      <td>2001-06-07</td>\n",
       "      <td>-36.0</td>\n",
       "      <td>57.0</td>\n",
       "      <td>12.5</td>\n",
       "      <td>-6.1</td>\n",
       "      <td>fraca</td>\n",
       "    </tr>\n",
       "    <tr>\n",
       "      <th>11</th>\n",
       "      <td>2001-06-12</td>\n",
       "      <td>-61.0</td>\n",
       "      <td>53.0</td>\n",
       "      <td>19.3</td>\n",
       "      <td>-11.8</td>\n",
       "      <td>moderada</td>\n",
       "    </tr>\n",
       "    <tr>\n",
       "      <th>17</th>\n",
       "      <td>2001-06-18</td>\n",
       "      <td>-33.0</td>\n",
       "      <td>57.0</td>\n",
       "      <td>8.4</td>\n",
       "      <td>-4.1</td>\n",
       "      <td>fraca</td>\n",
       "    </tr>\n",
       "    <tr>\n",
       "      <th>26</th>\n",
       "      <td>2001-06-27</td>\n",
       "      <td>-46.0</td>\n",
       "      <td>37.0</td>\n",
       "      <td>16.3</td>\n",
       "      <td>-7.1</td>\n",
       "      <td>fraca</td>\n",
       "    </tr>\n",
       "    <tr>\n",
       "      <th>61</th>\n",
       "      <td>1981-09-01</td>\n",
       "      <td>-38.0</td>\n",
       "      <td>43.0</td>\n",
       "      <td>9.9</td>\n",
       "      <td>-5.9</td>\n",
       "      <td>fraca</td>\n",
       "    </tr>\n",
       "    <tr>\n",
       "      <th>...</th>\n",
       "      <td>...</td>\n",
       "      <td>...</td>\n",
       "      <td>...</td>\n",
       "      <td>...</td>\n",
       "      <td>...</td>\n",
       "      <td>...</td>\n",
       "    </tr>\n",
       "    <tr>\n",
       "      <th>21176</th>\n",
       "      <td>1996-09-22</td>\n",
       "      <td>-37.0</td>\n",
       "      <td>27.0</td>\n",
       "      <td>7.5</td>\n",
       "      <td>-3.2</td>\n",
       "      <td>fraca</td>\n",
       "    </tr>\n",
       "    <tr>\n",
       "      <th>21177</th>\n",
       "      <td>1996-09-23</td>\n",
       "      <td>-42.0</td>\n",
       "      <td>50.0</td>\n",
       "      <td>12.2</td>\n",
       "      <td>-7.5</td>\n",
       "      <td>fraca</td>\n",
       "    </tr>\n",
       "    <tr>\n",
       "      <th>21180</th>\n",
       "      <td>1996-09-26</td>\n",
       "      <td>-38.0</td>\n",
       "      <td>50.0</td>\n",
       "      <td>9.3</td>\n",
       "      <td>-5.7</td>\n",
       "      <td>fraca</td>\n",
       "    </tr>\n",
       "    <tr>\n",
       "      <th>21183</th>\n",
       "      <td>1996-09-29</td>\n",
       "      <td>-42.0</td>\n",
       "      <td>43.0</td>\n",
       "      <td>9.7</td>\n",
       "      <td>-4.8</td>\n",
       "      <td>fraca</td>\n",
       "    </tr>\n",
       "    <tr>\n",
       "      <th>21184</th>\n",
       "      <td>1996-09-30</td>\n",
       "      <td>-41.0</td>\n",
       "      <td>40.0</td>\n",
       "      <td>7.1</td>\n",
       "      <td>-4.6</td>\n",
       "      <td>fraca</td>\n",
       "    </tr>\n",
       "  </tbody>\n",
       "</table>\n",
       "<p>3578 rows × 6 columns</p>\n",
       "</div>"
      ],
      "text/plain": [
       "            date  Dst_index  Kp_index  B_scalar  Bz_GSM classification\n",
       "6     2001-06-07      -36.0      57.0      12.5    -6.1          fraca\n",
       "11    2001-06-12      -61.0      53.0      19.3   -11.8       moderada\n",
       "17    2001-06-18      -33.0      57.0       8.4    -4.1          fraca\n",
       "26    2001-06-27      -46.0      37.0      16.3    -7.1          fraca\n",
       "61    1981-09-01      -38.0      43.0       9.9    -5.9          fraca\n",
       "...          ...        ...       ...       ...     ...            ...\n",
       "21176 1996-09-22      -37.0      27.0       7.5    -3.2          fraca\n",
       "21177 1996-09-23      -42.0      50.0      12.2    -7.5          fraca\n",
       "21180 1996-09-26      -38.0      50.0       9.3    -5.7          fraca\n",
       "21183 1996-09-29      -42.0      43.0       9.7    -4.8          fraca\n",
       "21184 1996-09-30      -41.0      40.0       7.1    -4.6          fraca\n",
       "\n",
       "[3578 rows x 6 columns]"
      ]
     },
     "execution_count": 11,
     "metadata": {},
     "output_type": "execute_result"
    }
   ],
   "source": [
    "data"
   ]
  },
  {
   "cell_type": "code",
   "execution_count": 9,
   "metadata": {},
   "outputs": [
    {
     "name": "stdout",
     "output_type": "stream",
     "text": [
      "{'fraca': 2241, 'moderada': 1105, 'intensa': 216, 'super_intensa': 15}\n"
     ]
    }
   ],
   "source": [
    "def class_count(df):\n",
    "    count = {\"fraca\": 0, \"moderada\": 0, \"intensa\": 0, \"super_intensa\": 0}\n",
    "    for i in range(1, len(df)):\n",
    "        count[df['classification'].iloc[i]]+=1\n",
    "    print(count)\n",
    "\n",
    "class_count(data)\n"
   ]
  },
  {
   "cell_type": "code",
   "execution_count": 17,
   "metadata": {},
   "outputs": [],
   "source": [
    "le = LabelEncoder()\n",
    "\n",
    "filter_data['classification'] = le.fit_transform(filter_data['classification'])"
   ]
  },
  {
   "cell_type": "code",
   "execution_count": 21,
   "metadata": {},
   "outputs": [],
   "source": [
    "X = filter_data[['Dst_index', 'Kp_index', 'B_scalar']].copy()\n",
    "y = filter_data['classification']"
   ]
  },
  {
   "cell_type": "code",
   "execution_count": 25,
   "metadata": {},
   "outputs": [],
   "source": [
    "X_train, X_test, y_train, y_test = train_test_split(X, y, test_size=0.33, random_state=42)"
   ]
  },
  {
   "cell_type": "code",
   "execution_count": 27,
   "metadata": {},
   "outputs": [
    {
     "data": {
      "text/html": [
       "<div>\n",
       "<style scoped>\n",
       "    .dataframe tbody tr th:only-of-type {\n",
       "        vertical-align: middle;\n",
       "    }\n",
       "\n",
       "    .dataframe tbody tr th {\n",
       "        vertical-align: top;\n",
       "    }\n",
       "\n",
       "    .dataframe thead th {\n",
       "        text-align: right;\n",
       "    }\n",
       "</style>\n",
       "<table border=\"1\" class=\"dataframe\">\n",
       "  <thead>\n",
       "    <tr style=\"text-align: right;\">\n",
       "      <th></th>\n",
       "      <th>Dst_index</th>\n",
       "      <th>Kp_index</th>\n",
       "      <th>B_scalar</th>\n",
       "    </tr>\n",
       "  </thead>\n",
       "  <tbody>\n",
       "    <tr>\n",
       "      <th>19398</th>\n",
       "      <td>-33.0</td>\n",
       "      <td>40.0</td>\n",
       "      <td>6.8</td>\n",
       "    </tr>\n",
       "    <tr>\n",
       "      <th>8591</th>\n",
       "      <td>-57.0</td>\n",
       "      <td>47.0</td>\n",
       "      <td>11.8</td>\n",
       "    </tr>\n",
       "    <tr>\n",
       "      <th>17053</th>\n",
       "      <td>-41.0</td>\n",
       "      <td>27.0</td>\n",
       "      <td>5.5</td>\n",
       "    </tr>\n",
       "    <tr>\n",
       "      <th>16988</th>\n",
       "      <td>-55.0</td>\n",
       "      <td>53.0</td>\n",
       "      <td>14.6</td>\n",
       "    </tr>\n",
       "    <tr>\n",
       "      <th>20612</th>\n",
       "      <td>-53.0</td>\n",
       "      <td>50.0</td>\n",
       "      <td>23.1</td>\n",
       "    </tr>\n",
       "    <tr>\n",
       "      <th>...</th>\n",
       "      <td>...</td>\n",
       "      <td>...</td>\n",
       "      <td>...</td>\n",
       "    </tr>\n",
       "    <tr>\n",
       "      <th>6856</th>\n",
       "      <td>-40.0</td>\n",
       "      <td>37.0</td>\n",
       "      <td>6.6</td>\n",
       "    </tr>\n",
       "    <tr>\n",
       "      <th>7834</th>\n",
       "      <td>-42.0</td>\n",
       "      <td>40.0</td>\n",
       "      <td>14.8</td>\n",
       "    </tr>\n",
       "    <tr>\n",
       "      <th>5116</th>\n",
       "      <td>-43.0</td>\n",
       "      <td>40.0</td>\n",
       "      <td>10.2</td>\n",
       "    </tr>\n",
       "    <tr>\n",
       "      <th>20847</th>\n",
       "      <td>-37.0</td>\n",
       "      <td>40.0</td>\n",
       "      <td>11.6</td>\n",
       "    </tr>\n",
       "    <tr>\n",
       "      <th>19187</th>\n",
       "      <td>-46.0</td>\n",
       "      <td>30.0</td>\n",
       "      <td>8.6</td>\n",
       "    </tr>\n",
       "  </tbody>\n",
       "</table>\n",
       "<p>2397 rows × 3 columns</p>\n",
       "</div>"
      ],
      "text/plain": [
       "       Dst_index  Kp_index  B_scalar\n",
       "19398      -33.0      40.0       6.8\n",
       "8591       -57.0      47.0      11.8\n",
       "17053      -41.0      27.0       5.5\n",
       "16988      -55.0      53.0      14.6\n",
       "20612      -53.0      50.0      23.1\n",
       "...          ...       ...       ...\n",
       "6856       -40.0      37.0       6.6\n",
       "7834       -42.0      40.0      14.8\n",
       "5116       -43.0      40.0      10.2\n",
       "20847      -37.0      40.0      11.6\n",
       "19187      -46.0      30.0       8.6\n",
       "\n",
       "[2397 rows x 3 columns]"
      ]
     },
     "execution_count": 27,
     "metadata": {},
     "output_type": "execute_result"
    }
   ],
   "source": [
    "X_train"
   ]
  },
  {
   "cell_type": "code",
   "execution_count": 45,
   "metadata": {},
   "outputs": [
    {
     "data": {
      "image/png": "[encoded data removed]",
      "text/plain": [
       "<Figure size 640x480 with 1 Axes>"
      ]
     },
     "metadata": {},
     "output_type": "display_data"
    }
   ],
   "source": [
    "fig, ax = plt.subplots()\n",
    "\n",
    "ax.scatter(\n",
    "    X_train['Dst_index'],\n",
    "    X_train['Kp_index'],\n",
    "    X_train['B_scalar'],\n",
    "    c=y_train,\n",
    ")\n",
    "\n",
    "plt.show()"
   ]
  },
  {
   "cell_type": "code",
   "execution_count": 94,
   "metadata": {},
   "outputs": [
    {
     "data": {
      "text/html": [
       "<style>#sk-container-id-6 {color: black;background-color: white;}#sk-container-id-6 pre{padding: 0;}#sk-container-id-6 div.sk-toggleable {background-color: white;}#sk-container-id-6 label.sk-toggleable__label {cursor: pointer;display: block;width: 100%;margin-bottom: 0;padding: 0.3em;box-sizing: border-box;text-align: center;}#sk-container-id-6 label.sk-toggleable__label-arrow:before {content: \"▸\";float: left;margin-right: 0.25em;color: #696969;}#sk-container-id-6 label.sk-toggleable__label-arrow:hover:before {color: black;}#sk-container-id-6 div.sk-estimator:hover label.sk-toggleable__label-arrow:before {color: black;}#sk-container-id-6 div.sk-toggleable__content {max-height: 0;max-width: 0;overflow: hidden;text-align: left;background-color: #f0f8ff;}#sk-container-id-6 div.sk-toggleable__content pre {margin: 0.2em;color: black;border-radius: 0.25em;background-color: #f0f8ff;}#sk-container-id-6 input.sk-toggleable__control:checked~div.sk-toggleable__content {max-height: 200px;max-width: 100%;overflow: auto;}#sk-container-id-6 input.sk-toggleable__control:checked~label.sk-toggleable__label-arrow:before {content: \"▾\";}#sk-container-id-6 div.sk-estimator input.sk-toggleable__control:checked~label.sk-toggleable__label {background-color: #d4ebff;}#sk-container-id-6 div.sk-label input.sk-toggleable__control:checked~label.sk-toggleable__label {background-color: #d4ebff;}#sk-container-id-6 input.sk-hidden--visually {border: 0;clip: rect(1px 1px 1px 1px);clip: rect(1px, 1px, 1px, 1px);height: 1px;margin: -1px;overflow: hidden;padding: 0;position: absolute;width: 1px;}#sk-container-id-6 div.sk-estimator {font-family: monospace;background-color: #f0f8ff;border: 1px dotted black;border-radius: 0.25em;box-sizing: border-box;margin-bottom: 0.5em;}#sk-container-id-6 div.sk-estimator:hover {background-color: #d4ebff;}#sk-container-id-6 div.sk-parallel-item::after {content: \"\";width: 100%;border-bottom: 1px solid gray;flex-grow: 1;}#sk-container-id-6 div.sk-label:hover label.sk-toggleable__label {background-color: #d4ebff;}#sk-container-id-6 div.sk-serial::before {content: \"\";position: absolute;border-left: 1px solid gray;box-sizing: border-box;top: 0;bottom: 0;left: 50%;z-index: 0;}#sk-container-id-6 div.sk-serial {display: flex;flex-direction: column;align-items: center;background-color: white;padding-right: 0.2em;padding-left: 0.2em;position: relative;}#sk-container-id-6 div.sk-item {position: relative;z-index: 1;}#sk-container-id-6 div.sk-parallel {display: flex;align-items: stretch;justify-content: center;background-color: white;position: relative;}#sk-container-id-6 div.sk-item::before, #sk-container-id-6 div.sk-parallel-item::before {content: \"\";position: absolute;border-left: 1px solid gray;box-sizing: border-box;top: 0;bottom: 0;left: 50%;z-index: -1;}#sk-container-id-6 div.sk-parallel-item {display: flex;flex-direction: column;z-index: 1;position: relative;background-color: white;}#sk-container-id-6 div.sk-parallel-item:first-child::after {align-self: flex-end;width: 50%;}#sk-container-id-6 div.sk-parallel-item:last-child::after {align-self: flex-start;width: 50%;}#sk-container-id-6 div.sk-parallel-item:only-child::after {width: 0;}#sk-container-id-6 div.sk-dashed-wrapped {border: 1px dashed gray;margin: 0 0.4em 0.5em 0.4em;box-sizing: border-box;padding-bottom: 0.4em;background-color: white;}#sk-container-id-6 div.sk-label label {font-family: monospace;font-weight: bold;display: inline-block;line-height: 1.2em;}#sk-container-id-6 div.sk-label-container {text-align: center;}#sk-container-id-6 div.sk-container {/* jupyter's `normalize.less` sets `[hidden] { display: none; }` but bootstrap.min.css set `[hidden] { display: none !important; }` so we also need the `!important` here to be able to override the default hidden behavior on the sphinx rendered scikit-learn.org. See: https://github.com/scikit-learn/scikit-learn/issues/21755 */display: inline-block !important;position: relative;}#sk-container-id-6 div.sk-text-repr-fallback {display: none;}</style><div id=\"sk-container-id-6\" class=\"sk-top-container\"><div class=\"sk-text-repr-fallback\"><pre>SVC(kernel=&#x27;linear&#x27;)</pre><b>In a Jupyter environment, please rerun this cell to show the HTML representation or trust the notebook. <br />On GitHub, the HTML representation is unable to render, please try loading this page with nbviewer.org.</b></div><div class=\"sk-container\" hidden><div class=\"sk-item\"><div class=\"sk-estimator sk-toggleable\"><input class=\"sk-toggleable__control sk-hidden--visually\" id=\"sk-estimator-id-6\" type=\"checkbox\" checked><label for=\"sk-estimator-id-6\" class=\"sk-toggleable__label sk-toggleable__label-arrow\">SVC</label><div class=\"sk-toggleable__content\"><pre>SVC(kernel=&#x27;linear&#x27;)</pre></div></div></div></div></div>"
      ],
      "text/plain": [
       "SVC(kernel='linear')"
      ]
     },
     "execution_count": 94,
     "metadata": {},
     "output_type": "execute_result"
    }
   ],
   "source": [
    "clf = SVC(kernel='linear')\n",
    "clf.fit(X_train, y_train)"
   ]
  },
  {
   "cell_type": "code",
   "execution_count": 121,
   "metadata": {},
   "outputs": [
    {
     "data": {
      "text/html": [
       "<div>\n",
       "<style scoped>\n",
       "    .dataframe tbody tr th:only-of-type {\n",
       "        vertical-align: middle;\n",
       "    }\n",
       "\n",
       "    .dataframe tbody tr th {\n",
       "        vertical-align: top;\n",
       "    }\n",
       "\n",
       "    .dataframe thead th {\n",
       "        text-align: right;\n",
       "    }\n",
       "</style>\n",
       "<table border=\"1\" class=\"dataframe\">\n",
       "  <thead>\n",
       "    <tr style=\"text-align: right;\">\n",
       "      <th></th>\n",
       "      <th>Dst_index</th>\n",
       "      <th>Kp_index</th>\n",
       "      <th>B_scalar</th>\n",
       "    </tr>\n",
       "  </thead>\n",
       "  <tbody>\n",
       "    <tr>\n",
       "      <th>19398</th>\n",
       "      <td>-33.0</td>\n",
       "      <td>40.0</td>\n",
       "      <td>6.8</td>\n",
       "    </tr>\n",
       "    <tr>\n",
       "      <th>8591</th>\n",
       "      <td>-57.0</td>\n",
       "      <td>47.0</td>\n",
       "      <td>11.8</td>\n",
       "    </tr>\n",
       "    <tr>\n",
       "      <th>17053</th>\n",
       "      <td>-41.0</td>\n",
       "      <td>27.0</td>\n",
       "      <td>5.5</td>\n",
       "    </tr>\n",
       "    <tr>\n",
       "      <th>16988</th>\n",
       "      <td>-55.0</td>\n",
       "      <td>53.0</td>\n",
       "      <td>14.6</td>\n",
       "    </tr>\n",
       "    <tr>\n",
       "      <th>20612</th>\n",
       "      <td>-53.0</td>\n",
       "      <td>50.0</td>\n",
       "      <td>23.1</td>\n",
       "    </tr>\n",
       "    <tr>\n",
       "      <th>...</th>\n",
       "      <td>...</td>\n",
       "      <td>...</td>\n",
       "      <td>...</td>\n",
       "    </tr>\n",
       "    <tr>\n",
       "      <th>6856</th>\n",
       "      <td>-40.0</td>\n",
       "      <td>37.0</td>\n",
       "      <td>6.6</td>\n",
       "    </tr>\n",
       "    <tr>\n",
       "      <th>7834</th>\n",
       "      <td>-42.0</td>\n",
       "      <td>40.0</td>\n",
       "      <td>14.8</td>\n",
       "    </tr>\n",
       "    <tr>\n",
       "      <th>5116</th>\n",
       "      <td>-43.0</td>\n",
       "      <td>40.0</td>\n",
       "      <td>10.2</td>\n",
       "    </tr>\n",
       "    <tr>\n",
       "      <th>20847</th>\n",
       "      <td>-37.0</td>\n",
       "      <td>40.0</td>\n",
       "      <td>11.6</td>\n",
       "    </tr>\n",
       "    <tr>\n",
       "      <th>19187</th>\n",
       "      <td>-46.0</td>\n",
       "      <td>30.0</td>\n",
       "      <td>8.6</td>\n",
       "    </tr>\n",
       "  </tbody>\n",
       "</table>\n",
       "<p>2397 rows × 3 columns</p>\n",
       "</div>"
      ],
      "text/plain": [
       "       Dst_index  Kp_index  B_scalar\n",
       "19398      -33.0      40.0       6.8\n",
       "8591       -57.0      47.0      11.8\n",
       "17053      -41.0      27.0       5.5\n",
       "16988      -55.0      53.0      14.6\n",
       "20612      -53.0      50.0      23.1\n",
       "...          ...       ...       ...\n",
       "6856       -40.0      37.0       6.6\n",
       "7834       -42.0      40.0      14.8\n",
       "5116       -43.0      40.0      10.2\n",
       "20847      -37.0      40.0      11.6\n",
       "19187      -46.0      30.0       8.6\n",
       "\n",
       "[2397 rows x 3 columns]"
      ]
     },
     "execution_count": 121,
     "metadata": {},
     "output_type": "execute_result"
    }
   ],
   "source": [
    "X_train"
   ]
  },
  {
   "cell_type": "code",
   "execution_count": 110,
   "metadata": {},
   "outputs": [
    {
     "data": {
      "text/plain": [
       "array([[ -50. ,   57. ,   27.8],\n",
       "       [ -50. ,   23. ,    6.6],\n",
       "       [ -50. ,   67. ,   18.6],\n",
       "       [ -50. ,   57. ,    9.2],\n",
       "       [ -50. ,   50. ,    6.2],\n",
       "       [ -50. ,   43. ,    5.4],\n",
       "       [-240. ,   77. ,   37.4],\n",
       "       [-247. ,   83. ,   54.8],\n",
       "       [-101. ,   63. ,   18.2],\n",
       "       [-101. ,   47. ,   16.9],\n",
       "       [ -51. ,   60. ,   11.4],\n",
       "       [ -51. ,   50. ,    6.8],\n",
       "       [ -51. ,   33. ,   10.1],\n",
       "       [-100. ,   47. ,   18.6],\n",
       "       [ -51. ,   53. ,   20.8],\n",
       "       [ -51. ,   30. ,   12.7],\n",
       "       [ -51. ,   53. ,   15.4],\n",
       "       [ -51. ,   57. ,   15.7],\n",
       "       [-100. ,   60. ,   16.2],\n",
       "       [ -51. ,   57. ,    8.6],\n",
       "       [ -51. ,   43. ,    6. ],\n",
       "       [ -51. ,   50. ,   20.4],\n",
       "       [ -51. ,   57. ,   20.8],\n",
       "       [ -51. ,   57. ,    6.8],\n",
       "       [ -51. ,   33. ,    6.8],\n",
       "       [ -51. ,   50. ,    9.9],\n",
       "       [ -99. ,   70. ,   28.4],\n",
       "       [ -51. ,   37. ,    9.3],\n",
       "       [-263. ,   87. ,   36. ]])"
      ]
     },
     "execution_count": 110,
     "metadata": {},
     "output_type": "execute_result"
    }
   ],
   "source": [
    "clf.support_vectors_"
   ]
  },
  {
   "cell_type": "code",
   "execution_count": 135,
   "metadata": {},
   "outputs": [
    {
     "data": {
      "text/plain": [
       "array([[ 3.92178082e-02,  5.31219771e-06, -8.51271166e-06],\n",
       "       [ 2.00018580e+00,  1.32619295e-05,  5.10555990e-06],\n",
       "       [ 9.24644496e-03, -8.68210795e-04, -7.55343391e-04],\n",
       "       [-1.71113407e+00,  2.07132398e-02,  1.12303015e-01],\n",
       "       [ 7.31981425e-02, -2.61762383e-02,  3.85159337e-02],\n",
       "       [ 1.20398948e-02, -1.24803788e-03, -5.57946346e-04]])"
      ]
     },
     "execution_count": 135,
     "metadata": {},
     "output_type": "execute_result"
    }
   ],
   "source": [
    "clf.coef_"
   ]
  },
  {
   "cell_type": "code",
   "execution_count": 142,
   "metadata": {},
   "outputs": [],
   "source": [
    "w1 = clf.coef_[0][0]\n",
    "w2 = clf.coef_[0][1]\n",
    "w3 = clf.coef_[0][2]\n",
    "\n",
    "w0 = clf.intercept_[0]\n",
    "\n",
    "# w1*dst + w2*kp + w3*bz + w0 = 0\n",
    "x = np.linspace(1, 5000, len(X_train))\n",
    "y = -(w2*x + w3*x + w0)/w1"
   ]
  },
  {
   "cell_type": "code",
   "execution_count": 150,
   "metadata": {},
   "outputs": [
    {
     "data": {
      "text/plain": [
       "19398    0\n",
       "8591     2\n",
       "17053    0\n",
       "16988    2\n",
       "20612    2\n",
       "        ..\n",
       "6856     0\n",
       "7834     0\n",
       "5116     0\n",
       "20847    0\n",
       "19187    0\n",
       "Name: classification, Length: 2397, dtype: int64"
      ]
     },
     "execution_count": 150,
     "metadata": {},
     "output_type": "execute_result"
    }
   ],
   "source": [
    "y_train"
   ]
  },
  {
   "cell_type": "code",
   "execution_count": 207,
   "metadata": {},
   "outputs": [
    {
     "data": {
      "image/png": "[encoded data removed]",
      "text/plain": [
       "<Figure size 640x480 with 1 Axes>"
      ]
     },
     "metadata": {},
     "output_type": "display_data"
    }
   ],
   "source": [
    "fig1, ax1 = plt.subplots()\n",
    "\n",
    "scatter = ax1.scatter(\n",
    "    X_train['Dst_index'],\n",
    "    X_train['Kp_index'],\n",
    "    X_train['B_scalar'],\n",
    "    c=y_train,\n",
    ")\n",
    "\n",
    "# pontos para vetores de suporte\n",
    "ax1.scatter(\n",
    "    clf.support_vectors_[:, 0],\n",
    "    clf.support_vectors_[:, 1],\n",
    "    clf.support_vectors_[:, 2],\n",
    "    c='r',\n",
    ")\n",
    "\n",
    "# legenda com base nas classes\n",
    "legend1 = ax1.legend(\n",
    "    *scatter.legend_elements(),\n",
    "    loc=\"lower left\",\n",
    "    title=\"Classes\"\n",
    ")\n",
    "\n",
    "plt.show()"
   ]
  },
  {
   "cell_type": "code",
   "execution_count": 100,
   "metadata": {},
   "outputs": [],
   "source": [
    "y_predict = clf.predict(X_test)"
   ]
  },
  {
   "cell_type": "code",
   "execution_count": 101,
   "metadata": {},
   "outputs": [],
   "source": [
    "matrix_data = confusion_matrix(y_test, y_predict)"
   ]
  },
  {
   "cell_type": "code",
   "execution_count": 199,
   "metadata": {},
   "outputs": [],
   "source": [
    "def plot_confusion_matrix(matrix_data):  \n",
    "    fig, ax = plt.subplots()\n",
    "    sns.heatmap(\n",
    "        matrix_data, \n",
    "        annot=True, \n",
    "        ax=ax, \n",
    "        fmt='d', \n",
    "        cmap='Reds',\n",
    "        cbar=False,\n",
    "        xticklabels=le.classes_,\n",
    "        yticklabels=le.classes_\n",
    "    )\n",
    "\n",
    "    ax.set_title(\"Confusion Matrix\", fontsize=18)\n",
    "    ax.set_ylabel(\"True Label\")\n",
    "    ax.set_xlabel(\"Predicted Label\")\n",
    "\n",
    "    plt.tight_layout()"
   ]
  },
  {
   "cell_type": "code",
   "execution_count": 103,
   "metadata": {},
   "outputs": [
    {
     "name": "stdout",
     "output_type": "stream",
     "text": [
      "0: fraca\n",
      "1: intensa\n",
      "2: moderada\n",
      "3: super_intensa\n"
     ]
    },
    {
     "data": {
      "text/plain": [
       "[None, None, None, None]"
      ]
     },
     "execution_count": 103,
     "metadata": {},
     "output_type": "execute_result"
    }
   ],
   "source": [
    "[print(f'{i}: {v}') for i, v in enumerate(le.classes_)]"
   ]
  },
  {
   "cell_type": "code",
   "execution_count": 200,
   "metadata": {},
   "outputs": [
    {
     "data": {
      "image/png": "[encoded data removed]",
      "text/plain": [
       "<Figure size 640x480 with 1 Axes>"
      ]
     },
     "metadata": {},
     "output_type": "display_data"
    }
   ],
   "source": [
    "plot_confusion_matrix(matrix_data)"
   ]
  },
  {
   "cell_type": "code",
   "execution_count": 105,
   "metadata": {},
   "outputs": [
    {
     "name": "stdout",
     "output_type": "stream",
     "text": [
      "              precision    recall  f1-score   support\n",
      "\n",
      "           0       1.00      1.00      1.00       737\n",
      "           1       1.00      0.97      0.98        63\n",
      "           2       0.99      1.00      1.00       378\n",
      "           3       1.00      1.00      1.00         3\n",
      "\n",
      "    accuracy                           1.00      1181\n",
      "   macro avg       1.00      0.99      1.00      1181\n",
      "weighted avg       1.00      1.00      1.00      1181\n",
      "\n"
     ]
    }
   ],
   "source": [
    "from sklearn.metrics import classification_report\n",
    "report = classification_report(y_true=y_test, y_pred=y_predict)\n",
    "print(report)"
   ]
  }
 ],
 "metadata": {
  "kernelspec": {
   "display_name": "venv",
   "language": "python",
   "name": "python3"
  },
  "language_info": {
   "codemirror_mode": {
    "name": "ipython",
    "version": 3
   },
   "file_extension": ".py",
   "mimetype": "text/x-python",
   "name": "python",
   "nbconvert_exporter": "python",
   "pygments_lexer": "ipython3",
   "version": "3.8.10"
  },
  "orig_nbformat": 4
 },
 "nbformat": 4,
 "nbformat_minor": 2
}

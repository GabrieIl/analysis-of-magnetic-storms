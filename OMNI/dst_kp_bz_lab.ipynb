{
 "cells": [
  {
   "cell_type": "code",
   "execution_count": 3,
   "metadata": {},
   "outputs": [],
   "source": [
    "_ = \"\"\"\n",
    "curl -d  \"activity=retrieve&res=hour&spacecraft=omni2&start_date=20031120&end_date=20031120&vars=40&vars=38&vars=8&vars=16\" https://omniweb.gsfc.nasa.gov/cgi/nx1.cgi\n",
    "\n",
    "\n",
    "vars=40 [Dst-index, nT]\n",
    "vars=38 [Kp*10 index]\n",
    "vars=8  [Scalar B, nT]\n",
    "vars=16 [BZ, nT (GSM)]\n",
    "\n",
    "\"\"\"\n",
    "command = 'curl -d  \"activity=retrieve&res=hour&spacecraft=omni2&start_date=20031120&end_date=20031120&vars=40&vars=38&vars=8&vars=16\" https://omniweb.gsfc.nasa.gov/cgi/nx1.cgi'"
   ]
  },
  {
   "cell_type": "code",
   "execution_count": 5,
   "metadata": {},
   "outputs": [
    {
     "name": "stderr",
     "output_type": "stream",
     "text": [
      "  % Total    % Received % Xferd  Average Speed   Time    Time     Time  Current\n",
      "                                 Dload  Upload   Total   Spent    Left  Speed\n",
      "100  1538    0  1426  100   112   2190    172 --:--:-- --:--:-- --:--:--  2358\n"
     ]
    }
   ],
   "source": [
    "import os\n",
    "result = os.popen(command).read()"
   ]
  },
  {
   "cell_type": "code",
   "execution_count": 7,
   "metadata": {},
   "outputs": [
    {
     "name": "stdout",
     "output_type": "stream",
     "text": [
      "<HTML>\n",
      "<HEAD><TITLE>OMNIWeb Results</TITLE></HEAD>\n",
      "<BODY>\n",
      "<center><font size=5 color=red>OMNIWeb Plus Browser Results </font></center><br>\n",
      "<B>Listing for omni2 data from 20031120 to 20031120</B><hr><pre>Selected parameters:\n",
      " 1 Dst-index, nT\n",
      " 2 Kp index\n",
      " 3 Scalar B, nT\n",
      " 4 BZ, nT (GSM)\n",
      "\n",
      "YEAR DOY HR    1   2    3     4 \n",
      "2003 324  0    -4 10   6.5   0.1\n",
      "2003 324  1    -6 10   5.9   1.1\n",
      "2003 324  2    -5 10   6.6  -1.1\n",
      "2003 324  3    -7 37   5.9  -2.3\n",
      "2003 324  4   -15 37   7.0  -4.2\n",
      "2003 324  5   -26 37   6.9  -4.3\n",
      "2003 324  6   -32 63   7.6  -5.5\n",
      "2003 324  7   -34 63   8.2  -5.4\n",
      "2003 324  8   -17 63  16.8  -5.2\n",
      "2003 324  9   -38 63  23.9  -7.2\n",
      "2003 324 10   -68 63  33.9   6.9\n",
      "2003 324 11   -58 63  40.8   5.4\n",
      "2003 324 12   -49 77  46.5 -24.0\n",
      "2003 324 13  -102 77  48.5 -25.6\n",
      "2003 324 14  -162 77  53.8 -42.3\n",
      "2003 324 15  -171 87  55.8 -50.9\n",
      "2003 324 16  -229 87  52.7 -50.1\n",
      "2003 324 17  -329 87  46.4 -44.4\n",
      "2003 324 18  -396 87  40.4 -37.5\n",
      "2003 324 19  -413 87  33.1 -25.4\n",
      "2003 324 20  -422 87  26.5 -17.2\n",
      "2003 324 21  -422 80  25.5 -17.8\n",
      "2003 324 22  -405 80  24.7 -14.8\n",
      "2003 324 23  -343 80  22.6 -13.6\n",
      "</pre><hr><HR>\n",
      "<ADDRESS>\n",
      "<table>\n",
      "<tr>\n",
      "<td>\n",
      "If you have any questions about OMNIWeb Plus Interface,contact:<br>\n",
      "<A HREF=\"mailto:Natalia.E.Papitashvili@nasa.gov\">\n",
      "Dr. Natalia Papitashvili</A>, Code 672, Greenbelt, MD 20771.\n",
      "</ADDRESS>\n",
      "</td></tr>\n",
      "</table>\n",
      "<HR>\n",
      "<H6>Last Update: May 24, 2023, NEP.</H6>\n",
      "</BODY>\n",
      "</HTML>\n",
      "\n"
     ]
    }
   ],
   "source": [
    "print(result)"
   ]
  }
 ],
 "metadata": {
  "kernelspec": {
   "display_name": "venv",
   "language": "python",
   "name": "python3"
  },
  "language_info": {
   "codemirror_mode": {
    "name": "ipython",
    "version": 3
   },
   "file_extension": ".py",
   "mimetype": "text/x-python",
   "name": "python",
   "nbconvert_exporter": "python",
   "pygments_lexer": "ipython3",
   "version": "3.8.10"
  },
  "orig_nbformat": 4
 },
 "nbformat": 4,
 "nbformat_minor": 2
}

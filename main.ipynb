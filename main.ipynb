{
 "cells": [
  {
   "cell_type": "code",
   "execution_count": 1,
   "metadata": {},
   "outputs": [],
   "source": [
    "import re\n",
    "import requests\n",
    "import numpy as np\n",
    "import pandas as pd\n",
    "import seaborn as sns\n",
    "import matplotlib.pyplot as plt\n",
    "from bs4 import BeautifulSoup as soup\n",
    "from typing import List, Union, Dict"
   ]
  },
  {
   "cell_type": "code",
   "execution_count": 2,
   "metadata": {},
   "outputs": [],
   "source": [
    "periods = [str(i) for i in list(range(1957, 2017))]"
   ]
  },
  {
   "cell_type": "code",
   "execution_count": 3,
   "metadata": {},
   "outputs": [],
   "source": [
    "import numpy as np\n",
    "from KYOTO.libraries.dst import DstExtraction\n",
    "from KYOTO.libraries.rw_processed_data import load_processed_data\n",
    "classification_rules = {\n",
    "    'fraca':            np.array(range(-31, -51, -1)),\n",
    "    'moderada':         np.array(range(-51, -101, -1)),\n",
    "    'intensa':          np.array(range(-101, -251, -1)),\n",
    "    'super_intensa':    np.array(range(-251, -1001, -1)),\n",
    "}\n",
    "\n",
    "# dst = DstExtraction(periods=periods)\n",
    "# dst.make_classification(classification_rules)\n",
    "\n",
    "# A base completa com os dados de Dst estão neste arquivo: dst_full_data\n",
    "df_filtered = load_processed_data(name='dst_full_data')"
   ]
  },
  {
   "cell_type": "code",
   "execution_count": 27,
   "metadata": {},
   "outputs": [],
   "source": [
    "import numpy as np\n",
    "from KYOTO.libraries.kp import KpExtraction\n",
    "\n",
    "kp = KpExtraction(periods=periods)"
   ]
  },
  {
   "cell_type": "code",
   "execution_count": 7,
   "metadata": {},
   "outputs": [],
   "source": [
    "from sklearn.naive_bayes import GaussianNB\n",
    "from sklearn.model_selection import StratifiedKFold, cross_val_score, train_test_split\n",
    "from sklearn.preprocessing import LabelEncoder"
   ]
  },
  {
   "cell_type": "code",
   "execution_count": 8,
   "metadata": {},
   "outputs": [],
   "source": [
    "def class_count(df: pd.DataFrame):\n",
    "    count = {\"fraca\": 0, \"moderada\": 0, \"intensa\": 0, \"super_intensa\": 0}\n",
    "    for i in range(1, len(df)):\n",
    "        count[df['classification'].iloc[i]]+=1\n",
    "    print(count)"
   ]
  },
  {
   "cell_type": "code",
   "execution_count": 9,
   "metadata": {},
   "outputs": [
    {
     "name": "stdout",
     "output_type": "stream",
     "text": [
      "{'fraca': 4479, 'moderada': 2703, 'intensa': 592, 'super_intensa': 54}\n"
     ]
    }
   ],
   "source": [
    "class_count(df_filtered)"
   ]
  },
  {
   "cell_type": "code",
   "execution_count": 10,
   "metadata": {},
   "outputs": [],
   "source": [
    "def accuracy_range(results):\n",
    "    mean = results.mean()\n",
    "    dv = results.std()\n",
    "    print('Acurácia média: {:.2f}%'.format(mean*100))\n",
    "    print('Intervalo de acurácia: [{:.2f}% ~ {:.2f}%]'.format((mean - 2*dv)*100, (mean + 2*dv)*100))\n",
    "    print(results)\n",
    "    print('--------------------------------------------------------------')"
   ]
  },
  {
   "cell_type": "code",
   "execution_count": 11,
   "metadata": {},
   "outputs": [],
   "source": [
    "def precision_range(results):\n",
    "  mean = results.mean()\n",
    "  dv = results.std()\n",
    "  print('Precisão média: {:.2f}%'.format(mean*100))\n",
    "  print('Intervalo de precisão: [{:.2f}% ~ {:.2f}%]'.format((mean - 2*dv)*100, (mean + 2*dv)*100))\n",
    "  print(results)\n",
    "  print('--------------------------------------------------------------')"
   ]
  },
  {
   "cell_type": "code",
   "execution_count": 149,
   "metadata": {},
   "outputs": [],
   "source": [
    "def recall_range(results):\n",
    "  mean = results.mean()\n",
    "  dv = results.std()\n",
    "  print('Recall médio: {:.2f}%'.format(mean*100))\n",
    "  print('Intervalo de recall: [{:.2f}% ~ {:.2f}%]'.format((mean - 2*dv)*100, (mean + 2*dv)*100))\n",
    "  print(results)\n",
    "  print('--------------------------------------------------------------')"
   ]
  },
  {
   "cell_type": "code",
   "execution_count": 161,
   "metadata": {},
   "outputs": [],
   "source": [
    "from sklearn.preprocessing import LabelEncoder\n",
    "from sklearn.naive_bayes import GaussianNB\n",
    "from sklearn.model_selection import StratifiedKFold, cross_val_score, train_test_split\n",
    "from sklearn.model_selection import cross_val_predict\n",
    "from sklearn.metrics import confusion_matrix\n",
    "from sklearn.metrics import classification_report"
   ]
  },
  {
   "cell_type": "code",
   "execution_count": 12,
   "metadata": {},
   "outputs": [
    {
     "name": "stdout",
     "output_type": "stream",
     "text": [
      "O dataset de treino possui 490 tempestades e o de teste 211 tempestades.\n",
      "Acurácia média: 98.16%\n",
      "Intervalo de acurácia: [95.78% ~ 100.54%]\n"
     ]
    }
   ],
   "source": [
    "#Codificação da classe alvo\n",
    "le = LabelEncoder()\n",
    "df_filtered['classification'] = le.fit_transform(df_filtered['classification'])\n",
    "\n",
    "# Divisao entre treino/teste e avaliação do dataframe original\n",
    "X = df_filtered['dst_min'].values.reshape(-1, 1) \n",
    "y = df_filtered['classification']\n",
    "X_train, X_test, y_train, y_test = train_test_split(X, y, test_size = 0.30, stratify = y)\n",
    "\n",
    "print('O dataset de treino possui {} tempestades e o de teste {} tempestades.'.format(X_train.shape[0], X_test.shape[0]))\n",
    "print('--------------------------------------------------------------')\n",
    "\n",
    "#Definições de modelo e método de validação cruzada\n",
    "SEED = 10\n",
    "np.random.seed(SEED)\n",
    "cv = StratifiedKFold(n_splits=5, shuffle=True)\n",
    "\n",
    "model = GaussianNB()\n",
    "\n",
    "#Treinamento/Avaliação do modelo\n",
    "accuracy = cross_val_score(model, X_train, y_train, cv = cv, scoring='accuracy')\n",
    "precision = cross_val_score(model, X_train, y_train, cv = cv, scoring='precision_macro')\n",
    "recall = cross_val_score(model, X_train, y_train, cv = cv, scoring='recall_macro')\n",
    "\n",
    "accuracy_range(accuracy)\n",
    "precision_range(precision)\n",
    "recall_range(recall)\n",
    "\n",
    "'''\n",
    "#Relatório de classificação -> Desempenho por classes | Modelo em treinamento (Partição de treino do dataset)\n",
    "#print('Relatório de classificação:\\n', classification_report(y_train, y_pred, digits=4))\n",
    "\n",
    "#Matriz de confusão\n",
    "y_pred = cross_val_predict(model, X_train, y_train, cv = cv)\n",
    "fig, ax = plt.subplots()\n",
    "matrix = confusion_matrix(y_train, y_pred)\n",
    "sns.heatmap(matrix, annot=True, ax=ax, fmt='d', cmap='Reds')\n",
    "\n",
    "ax.set_title(\"Matriz de Confusão\", fontsize=18)\n",
    "ax.set_ylabel(\"True label\")\n",
    "ax.set_xlabel(\"Predicted Label\")\n",
    "\n",
    "plt.tight_layout()\n",
    "'''\n",
    "\n",
    "#Relatório de Classificação -> Desempenho por classes | Modelo Final (Usando a partição de avaliação do dataset)\n",
    "np.random.seed(SEED)\n",
    "final_model = GaussianNB()\n",
    "final_model.fit(X_train, y_train)\n",
    "y_pred = final_model.predict(X_test)\n",
    "y_prob = final_model.predict_proba(X_test)\n",
    "print(\"\\nRelatório de Classificação do modelo final:\\n\\n\", classification_report(y_test, y_pred, digits=4))\n",
    "\n",
    "#Matriz de confusão\n",
    "fig, ax = plt.subplots()\n",
    "final_matrix = confusion_matrix(y_test, y_pred)\n",
    "sns.heatmap(final_matrix, annot=True, ax=ax, fmt='d', cmap='Reds')\n",
    "\n",
    "ax.set_title(\"Matriz de Confusão\", fontsize=18)\n",
    "ax.set_ylabel(\"True label\")\n",
    "ax.set_xlabel(\"Predicted Label\")\n",
    "\n",
    "plt.tight_layout()\n"
   ]
  }
 ],
 "metadata": {
  "kernelspec": {
   "display_name": "venv",
   "language": "python",
   "name": "python3"
  },
  "language_info": {
   "codemirror_mode": {
    "name": "ipython",
    "version": 3
   },
   "file_extension": ".py",
   "mimetype": "text/x-python",
   "name": "python",
   "nbconvert_exporter": "python",
   "pygments_lexer": "ipython3",
   "version": "3.8.10"
  },
  "orig_nbformat": 4
 },
 "nbformat": 4,
 "nbformat_minor": 2
}
